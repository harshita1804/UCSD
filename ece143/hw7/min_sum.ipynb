{
 "cells": [
  {
   "cell_type": "code",
   "execution_count": 60,
   "metadata": {},
   "outputs": [],
   "source": [
    "import itertools as it\n",
    "import math\n",
    "\n",
    "def get_min_split(seq):\n",
    "    \n",
    "    '''\n",
    "     Returns the min split\n",
    "    '''\n",
    "    \n",
    "    assert isinstance(seq, list)\n",
    "    assert all(isinstance(i, (int, float)) for i in seq)\n",
    "    assert len(set(seq)) == len(seq)\n",
    "    assert all(i>0 for i in seq)\n",
    "    \n",
    "    table_lookup = []\n",
    "    \n",
    "    for i in range(1, int(math.floor(len(seq)/2))+1):\n",
    "        for subset in it.combinations(seq, i):\n",
    "            table_lookup.append((subset, abs(sum(seq) - 2*sum(subset))))\n",
    "    \n",
    "    minimum_diff = min([z[1] for z in table_lookup])\n",
    "    \n",
    "    return [(list(z[0]), list(set(seq)- set(z[0]))) for z in table_lookup if z[1] == minimum_diff]\n"
   ]
  },
  {
   "cell_type": "code",
   "execution_count": 61,
   "metadata": {},
   "outputs": [
    {
     "data": {
      "text/plain": [
       "[([20, 30], [25, 10, 5, 15]),\n",
       " ([25, 30], [10, 20, 5, 15]),\n",
       " ([5, 15, 30], [25, 10, 20]),\n",
       " ([5, 20, 25], [10, 30, 15]),\n",
       " ([5, 20, 30], [25, 10, 15]),\n",
       " ([10, 15, 25], [20, 5, 30]),\n",
       " ([10, 15, 30], [25, 20, 5]),\n",
       " ([10, 20, 25], [5, 30, 15])]"
      ]
     },
     "execution_count": 61,
     "metadata": {},
     "output_type": "execute_result"
    }
   ],
   "source": [
    "get_min_split([5, 10, 15, 20, 25,30])"
   ]
  },
  {
   "cell_type": "code",
   "execution_count": 35,
   "metadata": {},
   "outputs": [],
   "source": [
    "test = [5, 10, 15, 20, 25]\n",
    "l = set()\n",
    "for i in range(len(test)):\n",
    "    l.add((it.product(test, repeat = i+1)))"
   ]
  },
  {
   "cell_type": "code",
   "execution_count": 38,
   "metadata": {},
   "outputs": [
    {
     "name": "stdout",
     "output_type": "stream",
     "text": [
      "[]\n",
      "[]\n",
      "[]\n",
      "[]\n",
      "[]\n"
     ]
    }
   ],
   "source": []
  },
  {
   "cell_type": "code",
   "execution_count": null,
   "metadata": {},
   "outputs": [],
   "source": []
  }
 ],
 "metadata": {
  "kernelspec": {
   "display_name": "Python 3",
   "language": "python",
   "name": "python3"
  },
  "language_info": {
   "codemirror_mode": {
    "name": "ipython",
    "version": 3
   },
   "file_extension": ".py",
   "mimetype": "text/x-python",
   "name": "python",
   "nbconvert_exporter": "python",
   "pygments_lexer": "ipython3",
   "version": "3.7.3"
  }
 },
 "nbformat": 4,
 "nbformat_minor": 2
}
