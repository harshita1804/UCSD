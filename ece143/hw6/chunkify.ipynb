{
 "cells": [
  {
   "cell_type": "code",
   "execution_count": 190,
   "metadata": {},
   "outputs": [],
   "source": [
    "import os \n",
    "def split_by_n(fname,n=3):\n",
    "    '''\n",
    "    Split files into sub files of near same size\n",
    "    fname : Input file name\n",
    "    n is the number of segments\n",
    "    '''\n",
    "    \n",
    "    assert isinstance(fname, str)\n",
    "    assert isinstance(n, int)\n",
    "    \n",
    "    file_size = os.stat(fname).st_size\n",
    "  \n",
    "    chunk_size = file_size/n\n",
    "    list_of_sentences = []\n",
    "    \n",
    "    with open(fname, 'r') as input_file:\n",
    "        while True:\n",
    "            line = input_file.readline()\n",
    "            if not line:\n",
    "                break\n",
    "            list_of_sentences.append(line)\n",
    "            \n",
    "    \n",
    "    track_size = 0\n",
    "    track_line = 0\n",
    "    \n",
    "    for i in range(n):\n",
    "        file_name = fname+'_'+str(i).zfill(3)+'.txt'\n",
    "        with open(file_name, 'wt') as write_file:\n",
    "            #line = list_of_sentences[track_line]\n",
    "            while(track_size + len(list_of_sentences[track_line])<=chunk_size*(i+1)):\n",
    "                write_file.write(list_of_sentences[track_line])\n",
    "                track_size+=len(list_of_sentences[track_line])\n",
    "                track_line+=1\n",
    "                if(track_line>=len(list_of_sentences)):\n",
    "                    break"
   ]
  },
  {
   "cell_type": "code",
   "execution_count": 192,
   "metadata": {},
   "outputs": [],
   "source": [
    "split_by_n('sample_input.txt',8)"
   ]
  },
  {
   "cell_type": "code",
   "execution_count": null,
   "metadata": {},
   "outputs": [],
   "source": []
  }
 ],
 "metadata": {
  "kernelspec": {
   "display_name": "Python 3",
   "language": "python",
   "name": "python3"
  },
  "language_info": {
   "codemirror_mode": {
    "name": "ipython",
    "version": 3
   },
   "file_extension": ".py",
   "mimetype": "text/x-python",
   "name": "python",
   "nbconvert_exporter": "python",
   "pygments_lexer": "ipython3",
   "version": "3.7.3"
  }
 },
 "nbformat": 4,
 "nbformat_minor": 2
}
