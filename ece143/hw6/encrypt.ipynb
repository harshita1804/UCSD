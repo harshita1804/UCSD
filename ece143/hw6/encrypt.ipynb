{
 "cells": [
  {
   "cell_type": "code",
   "execution_count": 2,
   "metadata": {},
   "outputs": [],
   "source": [
    "import string\n",
    "def input_file_processing(fname):\n",
    "    '''\n",
    "    Returns a sentences from the file fname without punctuations and in lower case\n",
    "    '''\n",
    "    with open(fname) as f:\n",
    "        content = f.readlines()\n",
    "    content = [x.strip(string.punctuation).lower() for x in content] \n",
    "\n",
    "    return content\n",
    "    \n",
    "\n",
    "def encrypt_message(message,fname):\n",
    "    \n",
    "    '''\n",
    "       Given `message`, which is a lowercase string without any punctuation, and `fname` which\n",
    "       is the name of a text file source for the codebook, generate a sequence of 2-tuples that \n",
    "       represents the `(line number, word number)` of each word in the message. The output is \n",
    "       a list of 2-tuples for the entire message. Repeated words in the message should not \n",
    "       have the same 2-tuple. \n",
    "       \n",
    "       :param message: message to encrypt\n",
    "       :type message: str\n",
    "       :param fname: filename for source text\n",
    "       :type fname: str\n",
    "       :returns: list of 2-tuples \n",
    "    '''\n",
    "\n",
    "    assert isinstance(message, str)\n",
    "    assert isinstance(fname, str)\n",
    "    assert message.islower()\n",
    "\n",
    "    from collections import defaultdict\n",
    "    \n",
    "    list_of_tuples = []\n",
    "    \n",
    "    content = input_file_processing(fname)\n",
    "    dict_of_words = defaultdict(list)\n",
    "    \n",
    "    for line_number, line in enumerate(content):\n",
    "        for word_number, word in enumerate(line.split()):\n",
    "            dict_of_words[word].append((line_number, word_number))\n",
    " \n",
    "    message = message.strip(string.punctuation)\n",
    "    msg_count = {}\n",
    "    for msg in message.split():\n",
    "        if msg in msg_count.keys():\n",
    "            msg_count[msg]+=1\n",
    "        else:\n",
    "            msg_count[msg]=1\n",
    "\n",
    "    assert all(val<=len(dict_of_words[msg]) for val in msg_count.values())\n",
    "   \n",
    "    for msg in message.split():\n",
    "        list_of_tuples.append(dict_of_words[msg].pop(0))\n",
    "    \n",
    "    return list_of_tuples\n",
    "\n",
    "    \n",
    "def decrypt_message(inlist,fname):\n",
    "    '''\n",
    "      Given `inlist`, which is a list of 2-tuples`fname` which is the\n",
    "      name of a text file source for the codebook, return the encrypted message. \n",
    "     \n",
    "      :param message: inlist to decrypt\n",
    "      :type message: list\n",
    "      :param fname: filename for source text\n",
    "      :type fname: str\n",
    "      :returns: string decrypted message\n",
    "    '''\n",
    "    \n",
    "    assert isinstance(inlist, list)\n",
    "    assert all(isinstance(i, tuple) for i in inlist)\n",
    "    assert isinstance(fname, str)\n",
    "    \n",
    "    content = input_file_processing(fname)\n",
    "    text = []\n",
    "    for tup in inlist: \n",
    "        x, y = tup\n",
    "        l = content[x].split()\n",
    "        \n",
    "        text.append(l[y])\n",
    "    \n",
    "    return ' '.join(text)"
   ]
  },
  {
   "cell_type": "code",
   "execution_count": 3,
   "metadata": {},
   "outputs": [
    {
     "ename": "IndexError",
     "evalue": "pop from empty list",
     "output_type": "error",
     "traceback": [
      "\u001b[0;31m---------------------------------------------------------------------------\u001b[0m",
      "\u001b[0;31mIndexError\u001b[0m                                Traceback (most recent call last)",
      "\u001b[0;32m<ipython-input-3-da848bd05e5c>\u001b[0m in \u001b[0;36m<module>\u001b[0;34m\u001b[0m\n\u001b[1;32m      1\u001b[0m \u001b[0mm\u001b[0m \u001b[0;34m=\u001b[0m \u001b[0;34m'k yo the the'\u001b[0m\u001b[0;34m\u001b[0m\u001b[0;34m\u001b[0m\u001b[0m\n\u001b[1;32m      2\u001b[0m \u001b[0mfname\u001b[0m \u001b[0;34m=\u001b[0m \u001b[0;34m'myBook.txt'\u001b[0m\u001b[0;34m\u001b[0m\u001b[0;34m\u001b[0m\u001b[0m\n\u001b[0;32m----> 3\u001b[0;31m \u001b[0mans\u001b[0m \u001b[0;34m=\u001b[0m \u001b[0mencrypt_message\u001b[0m\u001b[0;34m(\u001b[0m\u001b[0mm\u001b[0m\u001b[0;34m,\u001b[0m\u001b[0mfname\u001b[0m\u001b[0;34m)\u001b[0m\u001b[0;34m\u001b[0m\u001b[0;34m\u001b[0m\u001b[0m\n\u001b[0m\u001b[1;32m      4\u001b[0m \u001b[0mprint\u001b[0m\u001b[0;34m(\u001b[0m\u001b[0mans\u001b[0m\u001b[0;34m)\u001b[0m\u001b[0;34m\u001b[0m\u001b[0;34m\u001b[0m\u001b[0m\n",
      "\u001b[0;32m<ipython-input-2-439586300040>\u001b[0m in \u001b[0;36mencrypt_message\u001b[0;34m(message, fname)\u001b[0m\n\u001b[1;32m     53\u001b[0m \u001b[0;34m\u001b[0m\u001b[0m\n\u001b[1;32m     54\u001b[0m     \u001b[0;32mfor\u001b[0m \u001b[0mmsg\u001b[0m \u001b[0;32min\u001b[0m \u001b[0mmessage\u001b[0m\u001b[0;34m.\u001b[0m\u001b[0msplit\u001b[0m\u001b[0;34m(\u001b[0m\u001b[0;34m)\u001b[0m\u001b[0;34m:\u001b[0m\u001b[0;34m\u001b[0m\u001b[0;34m\u001b[0m\u001b[0m\n\u001b[0;32m---> 55\u001b[0;31m         \u001b[0mlist_of_tuples\u001b[0m\u001b[0;34m.\u001b[0m\u001b[0mappend\u001b[0m\u001b[0;34m(\u001b[0m\u001b[0mdict_of_words\u001b[0m\u001b[0;34m[\u001b[0m\u001b[0mmsg\u001b[0m\u001b[0;34m]\u001b[0m\u001b[0;34m.\u001b[0m\u001b[0mpop\u001b[0m\u001b[0;34m(\u001b[0m\u001b[0;36m0\u001b[0m\u001b[0;34m)\u001b[0m\u001b[0;34m)\u001b[0m\u001b[0;34m\u001b[0m\u001b[0;34m\u001b[0m\u001b[0m\n\u001b[0m\u001b[1;32m     56\u001b[0m \u001b[0;34m\u001b[0m\u001b[0m\n\u001b[1;32m     57\u001b[0m     \u001b[0;32mreturn\u001b[0m \u001b[0mlist_of_tuples\u001b[0m\u001b[0;34m\u001b[0m\u001b[0;34m\u001b[0m\u001b[0m\n",
      "\u001b[0;31mIndexError\u001b[0m: pop from empty list"
     ]
    }
   ],
   "source": [
    "m = 'k yo the the'\n",
    "fname = 'myBook.txt'\n",
    "ans = encrypt_message(m,fname)\n",
    "print(ans)"
   ]
  },
  {
   "cell_type": "code",
   "execution_count": 35,
   "metadata": {},
   "outputs": [],
   "source": [
    "# ans = [(101, 3),\n",
    "#  (313, 8),\n",
    "#  (114, 11),\n",
    "#  (304, 8),\n",
    "#  (304, 3),\n",
    "#  (1191, 5),\n",
    "#  (731, 4),\n",
    "#  (3, 9),\n",
    "#  (0, 0),\n",
    "#  (167, 8),\n",
    "#  (52, 9),\n",
    "#  (551, 4),\n",
    "#  (3, 4),\n",
    "#  (901, 0)]"
   ]
  },
  {
   "cell_type": "code",
   "execution_count": 36,
   "metadata": {},
   "outputs": [
    {
     "data": {
      "text/plain": [
       "'let us not say we met late at the night about secret the secret'"
      ]
     },
     "execution_count": 36,
     "metadata": {},
     "output_type": "execute_result"
    }
   ],
   "source": [
    "decrypt_message(ans,fname)"
   ]
  },
  {
   "cell_type": "code",
   "execution_count": 37,
   "metadata": {},
   "outputs": [],
   "source": [
    "l = 'let us not say we met late at the night about secret the secret'"
   ]
  },
  {
   "cell_type": "code",
   "execution_count": 38,
   "metadata": {},
   "outputs": [
    {
     "data": {
      "text/plain": [
       "['let',\n",
       " 'us',\n",
       " 'not',\n",
       " 'say',\n",
       " 'we',\n",
       " 'met',\n",
       " 'late',\n",
       " 'at',\n",
       " 'the',\n",
       " 'night',\n",
       " 'about',\n",
       " 'secret',\n",
       " 'the',\n",
       " 'secret']"
      ]
     },
     "execution_count": 38,
     "metadata": {},
     "output_type": "execute_result"
    }
   ],
   "source": [
    "l.split()"
   ]
  },
  {
   "cell_type": "code",
   "execution_count": 39,
   "metadata": {},
   "outputs": [
    {
     "data": {
      "text/plain": [
       "True"
      ]
     },
     "execution_count": 39,
     "metadata": {},
     "output_type": "execute_result"
    }
   ],
   "source": [
    "l.split(' ') == l.split()"
   ]
  },
  {
   "cell_type": "code",
   "execution_count": null,
   "metadata": {},
   "outputs": [],
   "source": []
  },
  {
   "cell_type": "code",
   "execution_count": null,
   "metadata": {},
   "outputs": [],
   "source": []
  }
 ],
 "metadata": {
  "kernelspec": {
   "display_name": "Python 3",
   "language": "python",
   "name": "python3"
  },
  "language_info": {
   "codemirror_mode": {
    "name": "ipython",
    "version": 3
   },
   "file_extension": ".py",
   "mimetype": "text/x-python",
   "name": "python",
   "nbconvert_exporter": "python",
   "pygments_lexer": "ipython3",
   "version": "3.7.3"
  }
 },
 "nbformat": 4,
 "nbformat_minor": 2
}
