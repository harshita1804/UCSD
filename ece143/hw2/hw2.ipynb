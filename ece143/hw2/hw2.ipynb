{
 "cells": [
  {
   "cell_type": "code",
   "execution_count": null,
   "metadata": {},
   "outputs": [],
   "source": [
    "from itertools import product\n",
    "\n",
    "def get_power_of3(x):\n",
    "    ''' Input: an integer between 1 to 40 which is t be decomposed\n",
    "        Output: Returns the decomposition of the integer'''\n",
    "    assert(isinstance(x, int))\n",
    "    A = [-1,0,1]\n",
    "    combinations = list(product(A,repeat=4))\n",
    "    t = [1,3,9,27]\n",
    "    for z in combinations:\n",
    "        l  = 0\n",
    "        for a,b in zip(z,t):\n",
    "            l = l + a*b\n",
    "        if(l == x):\n",
    "            break\n",
    "    return list(z)"
   ]
  },
  {
   "cell_type": "code",
   "execution_count": null,
   "metadata": {},
   "outputs": [],
   "source": [
    "get_power_of3(22)"
   ]
  },
  {
   "cell_type": "code",
   "execution_count": null,
   "metadata": {},
   "outputs": [],
   "source": [
    "from itertools import product\n",
    "\n",
    "def get_power_of3(x):\n",
    "    ''' Input: an integer between 1 to 40 which is t be decomposed\n",
    "        Output: Returns the decomposition of the integer'''\n",
    "        \n",
    "    assert(isinstance(x, int))\n",
    "    assert(40>=x>=1)\n",
    "    \n",
    "    A = [-1,0,1]\n",
    "    combinations = product(A,repeat=4)\n",
    "    for z in combinations:\n",
    "        s = z[0]*1 + z[1]*3 + z[2]*9 +z[3]*27\n",
    "        if(s == x):\n",
    "            return list(z)\n"
   ]
  },
  {
   "cell_type": "code",
   "execution_count": 2,
   "metadata": {},
   "outputs": [],
   "source": [
    "def write_columns(data,fname):\n",
    "    '''\n",
    "    Input: data and filename\n",
    "    Output: Writes data_value, data_value**2, (data_value + data_value**2)/3) onto the \n",
    "            given file fname for every data_value\n",
    "    '''\n",
    "    assert isinstance(fname, str)\n",
    "    assert isinstance(data, list)\n",
    "    assert all(isinstance(d,(int, float)) for d in data)\n",
    "\n",
    "    s = []\n",
    "    for data_value in data:\n",
    "        s.append('%.2f'%data_value +',' + '%.2f'%(data_value**2) + ','+'%.2f'%((data_value+data_value**2)/3))\n",
    "     \n",
    "    f = open(fname, 'w')\n",
    "    f.write(\"\\n\".join(s))\n",
    "    f.close()"
   ]
  },
  {
   "cell_type": "code",
   "execution_count": 3,
   "metadata": {},
   "outputs": [],
   "source": [
    "write_columns([1,2,3,4,5,6,7,8,9,10,11,13], \"myfile.txt\")"
   ]
  },
  {
   "cell_type": "code",
   "execution_count": null,
   "metadata": {},
   "outputs": [],
   "source": [
    "print('%3.2f'%133333.5, '%3.2f' %12.666)"
   ]
  },
  {
   "cell_type": "code",
   "execution_count": null,
   "metadata": {},
   "outputs": [],
   "source": [
    "all(isinstance(d,(int, float)) for d in [2.3,2.0]) == True"
   ]
  },
  {
   "cell_type": "code",
   "execution_count": 16,
   "metadata": {},
   "outputs": [],
   "source": [
    "def write_chunks_of_five(words,fname):\n",
    "    '''\n",
    "        input: list of words and name of the output file\n",
    "        output: writes list of words in chunks of file to the output file '''\n",
    "    assert isinstance(fname, str)\n",
    "    assert isinstance(words, list) \n",
    "    assert all(isinstance(w, str) for w in words)\n",
    "\n",
    "    text = []\n",
    "    #print(len(words))\n",
    "    for i in range(0, len(words), 5):\n",
    "        text.append(\" \".join(words[i:i+5]))\n",
    "        #print(text)\n",
    "    f = open(fname, 'w')\n",
    "    f.write(\"\\n\".join(text))\n",
    "    f.close()"
   ]
  },
  {
   "cell_type": "code",
   "execution_count": null,
   "metadata": {},
   "outputs": [],
   "source": []
  },
  {
   "cell_type": "code",
   "execution_count": 17,
   "metadata": {},
   "outputs": [],
   "source": [
    "write_chunks_of_five( [\"h\",\"i\",\"j\", \"k\", \"l\", \"m\", \"o\"], \"text2.txt\")"
   ]
  },
  {
   "cell_type": "code",
   "execution_count": null,
   "metadata": {},
   "outputs": [],
   "source": [
    "with open('output.txt', 'w') as file:  # Use file to refer to the file object\n",
    "\n",
    "    file.write('Hi there!')"
   ]
  },
  {
   "cell_type": "code",
   "execution_count": 4,
   "metadata": {},
   "outputs": [],
   "source": []
  },
  {
   "cell_type": "code",
   "execution_count": 8,
   "metadata": {},
   "outputs": [
    {
     "name": "stdout",
     "output_type": "stream",
     "text": [
      "is an I me the\n",
      "\n",
      "ME hi one 1 HI\n",
      "\n",
      "HELLO\n",
      "\n"
     ]
    }
   ],
   "source": [
    "write_chunks_of_five( [\"is\", \"an\", \"I\", \"me\", \"the\", \"ME\",\"hi\", \"one\", \"1\", \"HI\", \"HELLO\"], \"test.txt\")"
   ]
  },
  {
   "cell_type": "code",
   "execution_count": 1,
   "metadata": {},
   "outputs": [],
   "source": [
    "def write_chunks_of_five(words,fname):\n",
    "    '''\n",
    "        input: list of words and name of the output file\n",
    "        output: list of words in chunks of 5\n",
    "    '''\n",
    "    assert isinstance(fname, str)\n",
    "    assert isinstance(words, list) \n",
    "    assert all(isinstance(w, str) for w in words)\n",
    "    \n",
    "    length_of_words = int(len(words)/5)\n",
    "    s = ''\n",
    "    track_end = 0\n",
    "    chunk = []\n",
    "    c = 0\n",
    "    for w in words:\n",
    "        s =s + w + \" \"\n",
    "        c = c+1\n",
    "        if c==5 or track_end == length_of_words:\n",
    "            chunk.append(s)\n",
    "            s = ''\n",
    "            c = 0\n",
    "            track_end = track_end+1\n",
    "    with open(fname, 'w') as file:\n",
    "        file.write(\"\\n\".join(chunk))\n",
    "    "
   ]
  },
  {
   "cell_type": "code",
   "execution_count": 2,
   "metadata": {},
   "outputs": [
    {
     "data": {
      "text/plain": [
       "{'TERM_PROGRAM': 'Apple_Terminal',\n",
       " 'SHELL': '/bin/bash',\n",
       " 'TERM': 'xterm-color',\n",
       " 'TMPDIR': '/var/folders/xg/5gd_jq9565z5k0wq4hx2p1jc0000gn/T/',\n",
       " 'CONDA_SHLVL': '1',\n",
       " 'CONDA_PROMPT_MODIFIER': '(base) ',\n",
       " 'TERM_PROGRAM_VERSION': '433',\n",
       " 'TERM_SESSION_ID': 'F37E35CB-5548-48AC-AA33-DABCBD93450C',\n",
       " 'USER': 'harshita',\n",
       " 'CONDA_EXE': '/Users/harshita/anaconda3/bin/conda',\n",
       " 'SSH_AUTH_SOCK': '/private/tmp/com.apple.launchd.BuQoc4ifaL/Listeners',\n",
       " '_CE_CONDA': '',\n",
       " 'PATH': '/Users/harshita/.cargo/bin:/Users/harshita/anaconda3/bin:/Users/harshita/anaconda3/condabin:/usr/local/bin:/usr/bin:/bin:/usr/sbin:/sbin',\n",
       " 'CONDA_PREFIX': '/Users/harshita/anaconda3',\n",
       " 'PWD': '/Users/harshita',\n",
       " 'XPC_FLAGS': '0x0',\n",
       " '_CE_M': '',\n",
       " 'XPC_SERVICE_NAME': '0',\n",
       " 'SHLVL': '1',\n",
       " 'HOME': '/Users/harshita',\n",
       " 'CONDA_PYTHON_EXE': '/Users/harshita/anaconda3/bin/python',\n",
       " 'LOGNAME': 'harshita',\n",
       " 'LC_CTYPE': 'UTF-8',\n",
       " 'CONDA_DEFAULT_ENV': 'base',\n",
       " '_': '/Users/harshita/anaconda3/bin/jupyter',\n",
       " 'KERNEL_LAUNCH_TIMEOUT': '40',\n",
       " 'JPY_PARENT_PID': '1292',\n",
       " 'CLICOLOR': '1',\n",
       " 'PAGER': 'cat',\n",
       " 'GIT_PAGER': 'cat',\n",
       " 'MPLBACKEND': 'module://ipykernel.pylab.backend_inline'}"
      ]
     },
     "execution_count": 2,
     "metadata": {},
     "output_type": "execute_result"
    }
   ],
   "source": [
    "env"
   ]
  },
  {
   "cell_type": "code",
   "execution_count": null,
   "metadata": {},
   "outputs": [],
   "source": []
  }
 ],
 "metadata": {
  "kernelspec": {
   "display_name": "Python 3",
   "language": "python",
   "name": "python3"
  },
  "language_info": {
   "codemirror_mode": {
    "name": "ipython",
    "version": 3
   },
   "file_extension": ".py",
   "mimetype": "text/x-python",
   "name": "python",
   "nbconvert_exporter": "python",
   "pygments_lexer": "ipython3",
   "version": "3.7.3"
  }
 },
 "nbformat": 4,
 "nbformat_minor": 2
}
