{
 "cells": [
  {
   "cell_type": "code",
   "execution_count": 80,
   "metadata": {},
   "outputs": [],
   "source": [
    "class Interval(object):\n",
    "    def __init__(self,a,b):\n",
    "        \"\"\"\n",
    "        :a: integer\n",
    "        :b: integer\n",
    "        \"\"\"\n",
    "        assert a<b\n",
    "        assert isinstance(a,int)\n",
    "        assert isinstance(b,int)\n",
    "        self._a = a\n",
    "        self._b = b\n",
    "    def __repr__(self):\n",
    "        '''\n",
    "        __repr__ funtion\n",
    "        '''\n",
    "        assert isinstance(self._a,int)\n",
    "        assert isinstance(self._b,int)\n",
    "        return \"Interval({},{})\".format(self._a, self._b)\n",
    "    def __eq__(self,other):\n",
    "        '''\n",
    "        responds to '=='\n",
    "        '''\n",
    "        assert isinstance(self._a,int)\n",
    "        assert isinstance(self._b,int)\n",
    "        assert isinstance(other._a,int)\n",
    "        assert isinstance(other._b,int)\n",
    "        return self._a == other._a and self._b == other._b\n",
    "    def __lt__(self,other):\n",
    "        '''\n",
    "        responds to '<'\n",
    "        '''\n",
    "        assert isinstance(self._a,int)\n",
    "        assert isinstance(self._b,int)\n",
    "        assert isinstance(other._a,int)\n",
    "        assert isinstance(other._b,int)\n",
    "        return self._b<other._a\n",
    "    def __gt__(self,other):\n",
    "        '''\n",
    "        responds to '>'\n",
    "        '''\n",
    "        assert isinstance(self._a,int)\n",
    "        assert isinstance(self._b,int)\n",
    "        assert isinstance(other._a,int)\n",
    "        assert isinstance(other._b,int)\n",
    "        return self._b>other._a\n",
    "    def __ge__(self,other):\n",
    "        '''\n",
    "        responds to '>='\n",
    "        '''\n",
    "        assert isinstance(self._a,int)\n",
    "        assert isinstance(self._b,int)\n",
    "        assert isinstance(other._a,int)\n",
    "        assert isinstance(other._b,int)\n",
    "        return self._a>=other._b\n",
    "    def __le__(self,other):\n",
    "        '''\n",
    "        responds to '<='\n",
    "        '''\n",
    "        assert isinstance(self._a,int)\n",
    "        assert isinstance(self._b,int)\n",
    "        assert isinstance(other._a,int)\n",
    "        assert isinstance(other._b,int)\n",
    "        return self._a<=other._b\n",
    "    def __add__(self,other):\n",
    "        '''\n",
    "        responds to '+'\n",
    "        '''\n",
    "        assert isinstance(self._a,int)\n",
    "        assert isinstance(self._b,int)\n",
    "        assert isinstance(other._a,int)\n",
    "        assert isinstance(other._b,int)\n",
    "        if(self.isIntersecting(other)):\n",
    "            return Interval(min(self._a, other._a), max(self._b, other._b))\n",
    "        else:\n",
    "            return [Interval(self._a, self._b), Interval(other._a,other._b)]\n",
    "\n",
    "    def isIntersecting(self, other):\n",
    "        '''\n",
    "        returns true if the two intervals are intersecting\n",
    "        '''\n",
    "        assert isinstance(self._a,int)\n",
    "        assert isinstance(self._b,int)\n",
    "        assert isinstance(other._a,int)\n",
    "        assert isinstance(other._b,int)\n",
    "        if(other._a<=self._a):\n",
    "            if(other._b>self._a):\n",
    "                return True\n",
    "            else:\n",
    "                return False\n",
    "        elif self._a<other._a and other._a<self._b:\n",
    "                return True\n",
    "        else:\n",
    "            return False"
   ]
  },
  {
   "cell_type": "code",
   "execution_count": 81,
   "metadata": {},
   "outputs": [],
   "source": [
    "a = Interval(2,3)\n",
    "b = Interval(0,3) \n",
    "c = Interval(5,10) "
   ]
  },
  {
   "cell_type": "code",
   "execution_count": 82,
   "metadata": {},
   "outputs": [
    {
     "data": {
      "text/plain": [
       "[Interval(2,3), Interval(5,10)]"
      ]
     },
     "execution_count": 82,
     "metadata": {},
     "output_type": "execute_result"
    }
   ],
   "source": [
    "a+b\n",
    "b+c\n",
    "a+c"
   ]
  },
  {
   "cell_type": "code",
   "execution_count": 83,
   "metadata": {},
   "outputs": [
    {
     "name": "stdout",
     "output_type": "stream",
     "text": [
      "Interval(0,3)\n",
      "[Interval(0,3), Interval(5,10)]\n",
      "[Interval(2,3), Interval(1,2)]\n"
     ]
    }
   ],
   "source": [
    "print(a+b)\n",
    "print(b+c)\n",
    "print(Interval(2,3)+Interval(1,2))"
   ]
  },
  {
   "cell_type": "code",
   "execution_count": null,
   "metadata": {},
   "outputs": [],
   "source": []
  },
  {
   "cell_type": "code",
   "execution_count": null,
   "metadata": {},
   "outputs": [],
   "source": []
  }
 ],
 "metadata": {
  "kernelspec": {
   "display_name": "Python 3",
   "language": "python",
   "name": "python3"
  },
  "language_info": {
   "codemirror_mode": {
    "name": "ipython",
    "version": 3
   },
   "file_extension": ".py",
   "mimetype": "text/x-python",
   "name": "python",
   "nbconvert_exporter": "python",
   "pygments_lexer": "ipython3",
   "version": "3.7.3"
  }
 },
 "nbformat": 4,
 "nbformat_minor": 2
}
