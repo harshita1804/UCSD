{
 "cells": [
  {
   "cell_type": "code",
   "execution_count": 10,
   "metadata": {},
   "outputs": [],
   "source": [
    "import numpy as np\n",
    "import random\n",
    "def gen_rand_slash(m=6,n=6,direction='back'):\n",
    "    '''\n",
    "     this function generates an ndarray containing a back or forward slash (1's) with all other 0's according to requirements\n",
    "    :param: m (length of the row) \n",
    "    :type : int\n",
    "    :param: n (length of the column) \n",
    "    :type : int\n",
    "    :param: direction ('back' or 'forward' slash)\n",
    "    :type: str    \n",
    "    '''\n",
    "    assert isinstance(m,int)\n",
    "    assert isinstance(n, int)\n",
    "    assert m>=2 and n>=2\n",
    "    assert isinstance(direction, str)\n",
    "    assert direction == 'back' or direction == 'forward'\n",
    "    \n",
    "    max_len = min(m,n)\n",
    "    len_array = random.choice(range(2,max_len+1))\n",
    "    \n",
    "    array = np.zeros((m,n))\n",
    "    \n",
    "    if direction=='back':\n",
    "        # start position\n",
    "        r_pos = random.choice(range(m-len_array+1))\n",
    "        c_pos = random.choice(range(n-len_array+1))\n",
    "        for i in range(len_array):\n",
    "            array[r_pos][c_pos] = 1\n",
    "            r_pos += 1\n",
    "            c_pos += 1\n",
    "    else:\n",
    "        # start position\n",
    "        r_pos = random.choice(range(m-len_array+1))\n",
    "        c_pos = random.choice(range(len_array-1,n))\n",
    "        for i in range(len_array):\n",
    "            array[r_pos][c_pos] = 1\n",
    "            r_pos += 1\n",
    "            c_pos -= 1        \n",
    "    \n",
    "    return array\n",
    "    "
   ]
  },
  {
   "cell_type": "code",
   "execution_count": 11,
   "metadata": {},
   "outputs": [],
   "source": [
    "z=gen_rand_slash(6,6,'forward')"
   ]
  },
  {
   "cell_type": "code",
   "execution_count": 12,
   "metadata": {},
   "outputs": [
    {
     "data": {
      "image/png": "[encoded data removed]",
      "text/plain": [
       "<Figure size 432x288 with 9 Axes>"
      ]
     },
     "metadata": {
      "needs_background": "light"
     },
     "output_type": "display_data"
    }
   ],
   "source": [
    "import matplotlib.pyplot as plt\n",
    "%matplotlib inline\n",
    "from matplotlib.pylab import subplots, cm \n",
    "fig,axs=subplots(3,3,sharex=True,sharey=True)\n",
    "for ax in axs.flatten():\n",
    "    ax.imshow(gen_rand_slash(m=6,n=5,direction='forward'),cmap=cm.gray_r)"
   ]
  },
  {
   "cell_type": "code",
   "execution_count": null,
   "metadata": {},
   "outputs": [],
   "source": []
  }
 ],
 "metadata": {
  "kernelspec": {
   "display_name": "Python 3",
   "language": "python",
   "name": "python3"
  },
  "language_info": {
   "codemirror_mode": {
    "name": "ipython",
    "version": 3
   },
   "file_extension": ".py",
   "mimetype": "text/x-python",
   "name": "python",
   "nbconvert_exporter": "python",
   "pygments_lexer": "ipython3",
   "version": "3.7.3"
  }
 },
 "nbformat": 4,
 "nbformat_minor": 2
}
