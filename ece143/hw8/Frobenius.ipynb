{
 "cells": [
  {
   "cell_type": "code",
   "execution_count": 8,
   "metadata": {},
   "outputs": [],
   "source": [
    "import numpy as np\n",
    "import itertools as it\n",
    "def solvefrob(coefs,b):\n",
    "    '''\n",
    "    Returns a set of possible values of x for the equation\n",
    "    coefs*x = b\n",
    "    '''\n",
    "    assert isinstance(coefs,list)\n",
    "    assert all(isinstance(i, int) for i in coefs)\n",
    "    assert all(i>0 for i in coefs)\n",
    "    assert isinstance(b,int)\n",
    "    assert b>0\n",
    "\n",
    "    ans = []\n",
    "    new_per = list(it.product(range(b+1), repeat = len(coefs)))\n",
    "    coefs_new = np.tile(coefs,(len(new_per),1))\n",
    "    x = np.where(np.sum(new_per*coefs_new, axis = 1)==b)\n",
    "    ans = []\n",
    "    for i in x[0]:\n",
    "        ans.append(tuple(new_per[i]))\n",
    "    return ans"
   ]
  },
  {
   "cell_type": "code",
   "execution_count": 10,
   "metadata": {},
   "outputs": [
    {
     "data": {
      "text/plain": [
       "[(0, 0, 3, 0),\n",
       " (0, 2, 0, 1),\n",
       " (0, 3, 1, 0),\n",
       " (1, 0, 1, 1),\n",
       " (1, 1, 2, 0),\n",
       " (1, 4, 0, 0),\n",
       " (2, 1, 0, 1),\n",
       " (2, 2, 1, 0),\n",
       " (3, 0, 2, 0),\n",
       " (3, 3, 0, 0),\n",
       " (4, 0, 0, 1),\n",
       " (4, 1, 1, 0),\n",
       " (5, 2, 0, 0),\n",
       " (6, 0, 1, 0),\n",
       " (7, 1, 0, 0),\n",
       " (9, 0, 0, 0)]"
      ]
     },
     "execution_count": 10,
     "metadata": {},
     "output_type": "execute_result"
    }
   ],
   "source": [
    "coefs = [1,2,3,5]\n",
    "b = 9\n",
    "solvefrob(coefs,b)\n",
    "#np.argwhere(np.sum(np.meshgrid(coefs,list(it.product(range(b+1), repeat = len(coefs)))), axis = 1) ==10)"
   ]
  },
  {
   "cell_type": "code",
   "execution_count": null,
   "metadata": {},
   "outputs": [],
   "source": [
    "new_per = list(it.product([0,1], repeat = 4))\n",
    "new_per\n",
    "new_per = list(it.product(range(10), repeat = 4))"
   ]
  },
  {
   "cell_type": "code",
   "execution_count": null,
   "metadata": {},
   "outputs": [],
   "source": [
    "coefs_new = np.tile(coefs,(len(new_per),1))\n",
    "coefs_new"
   ]
  },
  {
   "cell_type": "code",
   "execution_count": null,
   "metadata": {},
   "outputs": [],
   "source": [
    "x = np.where(np.sum(new_per*coefs_new, axis = 1)==10)"
   ]
  },
  {
   "cell_type": "code",
   "execution_count": null,
   "metadata": {},
   "outputs": [],
   "source": [
    "#pit.list(it.combinations_with_replacement([0,1],4))\n",
    "len(x[0])"
   ]
  },
  {
   "cell_type": "code",
   "execution_count": null,
   "metadata": {},
   "outputs": [],
   "source": [
    "new_per[2]"
   ]
  },
  {
   "cell_type": "code",
   "execution_count": null,
   "metadata": {},
   "outputs": [],
   "source": []
  }
 ],
 "metadata": {
  "kernelspec": {
   "display_name": "Python 3",
   "language": "python",
   "name": "python3"
  },
  "language_info": {
   "codemirror_mode": {
    "name": "ipython",
    "version": 3
   },
   "file_extension": ".py",
   "mimetype": "text/x-python",
   "name": "python",
   "nbconvert_exporter": "python",
   "pygments_lexer": "ipython3",
   "version": "3.7.3"
  }
 },
 "nbformat": 4,
 "nbformat_minor": 2
}
