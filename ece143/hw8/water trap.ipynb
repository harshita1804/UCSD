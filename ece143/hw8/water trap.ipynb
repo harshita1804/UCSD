{
 "cells": [
  {
   "cell_type": "code",
   "execution_count": 5,
   "metadata": {},
   "outputs": [],
   "source": [
    "def get_trapped_water(seq):\n",
    "    '''\n",
    "    Returns the amount of water trapped \n",
    "    '''\n",
    "    assert isinstance(seq, list)\n",
    "    assert all(isinstance(i, int) for i in seq)\n",
    "    assert all(i>=0 for i in seq)\n",
    "    \n",
    "    left_max = 0\n",
    "    right_max = 0\n",
    "    left_idx = 0\n",
    "    right_idx = len(seq)-1\n",
    "    ans = 0\n",
    "    while(left_idx<right_idx):\n",
    "        if(seq[left_idx]<seq[right_idx]):\n",
    "            if(seq[left_idx]>=left_max):\n",
    "                left_max = seq[left_idx]\n",
    "            else:\n",
    "                ans += left_max - seq[left_idx]\n",
    "            left_idx = left_idx + 1\n",
    "        else:\n",
    "            if(seq[right_idx]>=right_max):\n",
    "                right_max = seq[right_idx]\n",
    "            else:\n",
    "                ans += right_max - seq[right_idx]\n",
    "            right_idx = right_idx - 1\n",
    "    return ans"
   ]
  },
  {
   "cell_type": "code",
   "execution_count": 6,
   "metadata": {},
   "outputs": [
    {
     "data": {
      "text/plain": [
       "8"
      ]
     },
     "execution_count": 6,
     "metadata": {},
     "output_type": "execute_result"
    }
   ],
   "source": [
    "seq = [3, 0, 1, 3, 0, 5] \n",
    "get_trapped_water(seq)"
   ]
  },
  {
   "cell_type": "code",
   "execution_count": null,
   "metadata": {},
   "outputs": [],
   "source": []
  }
 ],
 "metadata": {
  "kernelspec": {
   "display_name": "Python 3",
   "language": "python",
   "name": "python3"
  },
  "language_info": {
   "codemirror_mode": {
    "name": "ipython",
    "version": 3
   },
   "file_extension": ".py",
   "mimetype": "text/x-python",
   "name": "python",
   "nbconvert_exporter": "python",
   "pygments_lexer": "ipython3",
   "version": "3.7.3"
  }
 },
 "nbformat": 4,
 "nbformat_minor": 2
}
