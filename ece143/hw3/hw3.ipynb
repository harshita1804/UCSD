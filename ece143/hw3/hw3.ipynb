{
 "cells": [
  {
   "cell_type": "code",
   "execution_count": 2,
   "metadata": {},
   "outputs": [],
   "source": [
    "def slide_window(x, width, increment):\n",
    "    '''Returns a sequence of overlapping lists from the input list.\n",
    "\n",
    "    Parameters\n",
    "    ----------\n",
    "    x: input list.\n",
    "    width: size of each window.\n",
    "    increment: factor by which the inputs should be incremented to generate the output list.\n",
    "\n",
    "    Returns\n",
    "    -------\n",
    "    List of lists\n",
    "        A sequence of overlapping lists from the input list\n",
    "\n",
    "    Examples\n",
    "    --------\n",
    "       slide_window(list(range(18)),5,2)\n",
    "           [[0, 1, 2, 3, 4],\n",
    "           [2, 3, 4, 5, 6],\n",
    "           [4, 5, 6, 7, 8],\n",
    "           [6, 7, 8, 9, 10],\n",
    "           [8, 9, 10, 11, 12],\n",
    "           [10, 11, 12, 13, 14],\n",
    "           [12, 13, 14, 15, 16]]\n",
    "\n",
    "    '''\n",
    "\n",
    "    assert isinstance(x, list)\n",
    "    assert isinstance(width, int)\n",
    "    assert isinstance(increment, int)\n",
    "    assert width >= 0\n",
    "    assert increment >= 0\n",
    "    assert width <= len(x)\n",
    "\n",
    "    output = []\n",
    "\n",
    "    for i in range(0, len(x), increment):\n",
    "\n",
    "        row = x[i:i + width]\n",
    "        if (len(row) == width):\n",
    "            output.append(row)\n",
    "\n",
    "    return output"
   ]
  },
  {
   "cell_type": "code",
   "execution_count": 4,
   "metadata": {},
   "outputs": [
    {
     "data": {
      "text/plain": [
       "[['a', 'b', 4, 6, 3],\n",
       " ['b', 4, 6, 3, 2],\n",
       " [4, 6, 3, 2, 1],\n",
       " [6, 3, 2, 1, 'c'],\n",
       " [3, 2, 1, 'c', 'd'],\n",
       " [2, 1, 'c', 'd', 10],\n",
       " [1, 'c', 'd', 10, 22],\n",
       " ['c', 'd', 10, 22, 1]]"
      ]
     },
     "execution_count": 4,
     "metadata": {},
     "output_type": "execute_result"
    }
   ],
   "source": [
    "x = ['a','b',4,6,3,2,1,'c','d',10,22,1]\n",
    "slide_window(x,5,1)\n",
    "#0 1 2 3 4 5 6 7 8 9 10 11 12 13 14 15 16 17 18 19\n",
    "#slide_window(list(range(20)),5,2) "
   ]
  },
  {
   "cell_type": "code",
   "execution_count": 7,
   "metadata": {},
   "outputs": [],
   "source": [
    "def fibonacci(n):\n",
    "    '''Yields the next number in fibonacci series.\n",
    "    \n",
    "    Parameters\n",
    "    ----------\n",
    "    n: number of fibonacci number to be generated.\n",
    "    \n",
    "    Returns\n",
    "    -------\n",
    "    List\n",
    "        A list of first n fibonacci numbers.\n",
    "        \n",
    "    Examples\n",
    "    --------\n",
    "       list(fibonacci(10))\n",
    "       \n",
    "       returns the list:\n",
    "       \n",
    "       [1, 1, 2, 3, 5, 8, 13, 21, 34, 55]\n",
    "       \n",
    "    '''\n",
    "    \n",
    "    assert isinstance(n, int)\n",
    "    a = 0\n",
    "    b = 1\n",
    "    yield(1)\n",
    "    for i in range (1,n):\n",
    "        yield(a+b)\n",
    "        t = a+b\n",
    "        a = b\n",
    "        b = t"
   ]
  },
  {
   "cell_type": "code",
   "execution_count": 4,
   "metadata": {},
   "outputs": [
    {
     "data": {
      "text/plain": [
       "[1, 1, 2, 3, 5, 8, 13, 21, 34, 55]"
      ]
     },
     "execution_count": 4,
     "metadata": {},
     "output_type": "execute_result"
    }
   ],
   "source": [
    "list(fibonacci(10))"
   ]
  },
  {
   "cell_type": "code",
   "execution_count": 12,
   "metadata": {},
   "outputs": [],
   "source": [
    "import calendar\n",
    "def number_of_days(year,month):\n",
    "    '''Returns the number of days in the given month of the given year.\n",
    "    \n",
    "    Parameters\n",
    "    ----------\n",
    "    year: year in the calendar.\n",
    "    month: month between 1-12.\n",
    "    \n",
    "    Returns\n",
    "    -------\n",
    "    Int\n",
    "        Number of days in that month of the year.\n",
    "        \n",
    "    Examples\n",
    "    --------\n",
    "       number_of_days(2020,2)\n",
    "       \n",
    "       returns: 29\n",
    "       \n",
    "    '''\n",
    "    \n",
    "    assert year>=0\n",
    "    assert 12>= month >=1\n",
    "    assert isinstance(year, int)\n",
    "    assert isinstance(month, int)\n",
    "    \n",
    "    days = calendar.monthrange(year, month)\n",
    "    \n",
    "    return days[1]\n",
    "    "
   ]
  },
  {
   "cell_type": "code",
   "execution_count": 15,
   "metadata": {},
   "outputs": [],
   "source": [
    "\n",
    "def number_of_leap_years(year1,year2):\n",
    "    \n",
    "    '''Returns the number of leap years between given years.\n",
    "    \n",
    "    Parameters\n",
    "    ----------\n",
    "    year1: year in the calendar.\n",
    "    year2: year in calendar.\n",
    "    \n",
    "    Returns\n",
    "    -------\n",
    "    Int\n",
    "        Number of leap years between year1 and year2.\n",
    "        \n",
    "    Examples\n",
    "    --------\n",
    "       number_of_leap_years(2012,2016)\n",
    "       \n",
    "       returns: 2\n",
    "       \n",
    "    '''\n",
    "    \n",
    "    assert year1>=0\n",
    "    assert year2>=0\n",
    "    assert year2>=year1\n",
    "    assert isinstance(year1, int)\n",
    "    assert isinstance(year2, int)\n",
    "    num_leap_years = 0\n",
    "    for year in range(year1, year2+1):\n",
    "        if(number_of_days(year,2)==29):\n",
    "            num_leap_years+=1\n",
    "        \n",
    "    return num_leap_years"
   ]
  },
  {
   "cell_type": "code",
   "execution_count": 28,
   "metadata": {},
   "outputs": [],
   "source": [
    "def get_day_of_week(year,month,day):\n",
    "    \n",
    "    '''Returns what day of the week is represented by the given date.\n",
    "    \n",
    "    Parameters\n",
    "    ----------\n",
    "    year: year in the calendar.\n",
    "    month: month in calendar.\n",
    "    day: day in the calendar. \n",
    "    Returns\n",
    "    -------\n",
    "    String\n",
    "        Day of the week represented by the given date.\n",
    "        \n",
    "    Examples\n",
    "    --------\n",
    "       get_day_of_week(2020, 1, 22)\n",
    "       \n",
    "       returns: Wednesday\n",
    "       \n",
    "    '''\n",
    "    assert year>=0\n",
    "    assert 12>= month >=1\n",
    "    assert 31>=day>=1\n",
    "    assert isinstance(year, int)\n",
    "    assert isinstance(month, int)\n",
    "    assert isinstance(day, int)\n",
    "    \n",
    "    days =[\"Monday\", \"Tuesday\", \"Wednesday\", \"Thursday\", \"Friday\", \"Saturday\", \"Sunday\"] \n",
    "    return days[calendar.weekday(year,month,day)]"
   ]
  },
  {
   "cell_type": "code",
   "execution_count": 29,
   "metadata": {},
   "outputs": [
    {
     "data": {
      "text/plain": [
       "str"
      ]
     },
     "execution_count": 29,
     "metadata": {},
     "output_type": "execute_result"
    }
   ],
   "source": []
  },
  {
   "cell_type": "code",
   "execution_count": null,
   "metadata": {},
   "outputs": [],
   "source": []
  }
 ],
 "metadata": {
  "kernelspec": {
   "display_name": "Python 3",
   "language": "python",
   "name": "python3"
  },
  "language_info": {
   "codemirror_mode": {
    "name": "ipython",
    "version": 3
   },
   "file_extension": ".py",
   "mimetype": "text/x-python",
   "name": "python",
   "nbconvert_exporter": "python",
   "pygments_lexer": "ipython3",
   "version": "3.7.3"
  }
 },
 "nbformat": 4,
 "nbformat_minor": 2
}
