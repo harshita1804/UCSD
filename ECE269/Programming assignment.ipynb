{
 "cells": [
  {
   "cell_type": "markdown",
   "metadata": {},
   "source": [
    "## programming assignment: Lagrangegauss basis reduction"
   ]
  },
  {
   "cell_type": "code",
   "execution_count": 25,
   "metadata": {},
   "outputs": [],
   "source": [
    "import numpy as np\n",
    "\n",
    "def lagrangegauss(basis):\n",
    "    \n",
    "    '''\n",
    "    input: two basis vectors in R2 as a 2x2 matrix\n",
    "    output: two reduced basis vectors of the same space which are the smallest possible basis vectors of that space.\n",
    "    '''\n",
    "    #we take x1 and x2, i.e, columns of the basis vectors.\n",
    "    x1 = basis[:,0]\n",
    "    x2 = basis[:,1]\n",
    "    \n",
    "    #compute the norm of the columns x1 and x2 \n",
    "    X1 = np.sum(np.power(x1,2))**0.5\n",
    "    X2 = np.sum(np.power(x2,2))**0.5\n",
    "    \n",
    "    #check to ensure that the ordering of norm(x1)<norm(x2), if not then swap x1 and x2\n",
    "    if(X1>X2):\n",
    "        x1, x2 = x2, x1\n",
    "    X1 = np.sum(np.power(x1,2))\n",
    "    \n",
    "    #compute mu as per the given formula\n",
    "    mu = np.dot(x1,x2)/X1\n",
    "    \n",
    "    #compute q such that q is the nearest integer to mu\n",
    "    q = round(mu)\n",
    "    \n",
    "    #loop until q is not zero\n",
    "    while q != 0:\n",
    "        X1 = np.sum(np.power(x1,2))**0.5\n",
    "        X2 = np.sum(np.power(x2,2))**0.5\n",
    "        \n",
    "        #check to ensure that the ordering of norm(x1)<norm(x2), if not then swap x1 and x2\n",
    "        if(X1>X2):\n",
    "            x1, x2 = x2, x1\n",
    "        X1 = np.sum(np.power(x1,2))\n",
    "        mu = np.dot(x1,x2)/X1\n",
    "        q = round(mu)\n",
    "        #update x2 if q is not zero \n",
    "        if(q!=0):\n",
    "            x2 = x2 - q*x1\n",
    "    #insert the reduced values of x1 and x2 into a 2D matrix\n",
    "    basis[:,0] = x1\n",
    "    basis[:,1] = x2\n",
    "    return basis\n",
    "    \n",
    "    "
   ]
  },
  {
   "cell_type": "markdown",
   "metadata": {},
   "source": [
    "## Running the function on the given sample input\n",
    "\n",
    "since the input are the columns [4,5] and [6,13]\n",
    "this while passing the 2D array we form the list as [4,6], [5,13]\n",
    "so that the columns are represented correctly. "
   ]
  },
  {
   "cell_type": "code",
   "execution_count": 26,
   "metadata": {},
   "outputs": [
    {
     "data": {
      "text/plain": [
       "array([[-2,  6],\n",
       "       [ 3,  2]])"
      ]
     },
     "execution_count": 26,
     "metadata": {},
     "output_type": "execute_result"
    }
   ],
   "source": [
    "lagrangegauss(np.array([[4,6], [5,13]]))"
   ]
  },
  {
   "cell_type": "code",
   "execution_count": null,
   "metadata": {},
   "outputs": [],
   "source": []
  }
 ],
 "metadata": {
  "kernelspec": {
   "display_name": "Python 3",
   "language": "python",
   "name": "python3"
  },
  "language_info": {
   "codemirror_mode": {
    "name": "ipython",
    "version": 3
   },
   "file_extension": ".py",
   "mimetype": "text/x-python",
   "name": "python",
   "nbconvert_exporter": "python",
   "pygments_lexer": "ipython3",
   "version": "3.7.3"
  }
 },
 "nbformat": 4,
 "nbformat_minor": 2
}
