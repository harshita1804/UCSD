{
 "cells": [
  {
   "cell_type": "markdown",
   "metadata": {},
   "source": [
    "# 8 Graham-Schmidt"
   ]
  },
  {
   "cell_type": "code",
   "execution_count": 240,
   "metadata": {},
   "outputs": [],
   "source": [
    "import numpy as np\n",
    "\n",
    "#test inputs for part b and c\n",
    "A = np.array([[-1 , 2, -1], [-2, 1, -3], [ 1, 3, -2], [-3, 1, 2]])\n",
    "B = np.array([[1 , 2, 3], [2, 1, 3], [ -1, 3, 2], [3, 6, 9]])"
   ]
  },
  {
   "cell_type": "markdown",
   "metadata": {},
   "source": [
    "### a)"
   ]
  },
  {
   "cell_type": "code",
   "execution_count": 241,
   "metadata": {},
   "outputs": [],
   "source": [
    "def gramschmidt(X):\n",
    "    '''\n",
    "    Decomposes X into two matrices Q and R such that X = QR where R is a staircase matrix\n",
    "    and columns of Q consist of k orthonormal vectors q1, q2, . . . , qk such that,\n",
    "    span(q1,q2,...,qk) = span(x1,x2,...,xn).\n",
    "    \n",
    "    Parameter(s):\n",
    "    X: a matrix with columns \n",
    "    \n",
    "    Returns:\n",
    "    Two matrices Q and R\n",
    "    '''\n",
    "    m,n = np.shape(X)\n",
    "    Q = np.zeros((m, n))\n",
    "    #computing the first unit vector q1\n",
    "    Q[:,0] = X[:,0]/np.power(np.dot(X[:,0],X[:,0]), 0.5) \n",
    "    count = 1\n",
    "    for i in range(1,n):\n",
    "        q = X[:,i]\n",
    "        for j in range(i):\n",
    "            #computing the ith unit vector\n",
    "            q = q - np.dot(X[:,i],Q[:,j])*Q[:,j]\n",
    "        #normalizing the ith vector\n",
    "        if(abs(np.dot(q,q))>0.00000001): \n",
    "            Q[:,count] =  q/np.power(np.dot(q,q), 0.5)\n",
    "            count = count + 1\n",
    "   \n",
    "    Q = Q[:,0:count]  #remove redundant columns\n",
    "    R = np.zeros((count,n))\n",
    "    \n",
    "    #populate matrix R\n",
    "    for i in range (count):\n",
    "        R[i][i] = np.inner(X[:,i], Q[:,i])\n",
    "        for j in range (i+1,n):\n",
    "                R[i,j] = np.inner(Q[:,i], X[:,j])\n",
    "    return Q, R"
   ]
  },
  {
   "cell_type": "markdown",
   "metadata": {},
   "source": [
    "### b) "
   ]
  },
  {
   "cell_type": "code",
   "execution_count": 242,
   "metadata": {},
   "outputs": [
    {
     "name": "stdout",
     "output_type": "stream",
     "text": [
      "gramschmidt(\n",
      "[[-1  2 -1]\n",
      " [-2  1 -3]\n",
      " [ 1  3 -2]\n",
      " [-3  1  2]])\n",
      "\n",
      "Returns:\n",
      "Q:\n",
      "[[-0.25819889  0.46435976  0.02510336]\n",
      " [-0.51639778  0.12501993 -0.82283227]\n",
      " [ 0.25819889  0.87513954  0.06973155]\n",
      " [-0.77459667  0.05357997  0.56343091]]\n",
      "\n",
      "R:\n",
      "[[ 3.87298335 -1.03279556 -0.25819889]\n",
      " [ 0.          3.73273805 -2.4825387 ]\n",
      " [ 0.          0.          3.43079217]]\n"
     ]
    }
   ],
   "source": [
    "#complete the span thing\n",
    "\n",
    "my_QA, my_RA = gramschmidt(A)\n",
    "rank_original = np.linalg.matrix_rank(A)\n",
    "rank_gs  = np.linalg.matrix_rank(Z[0])\n",
    "#because we decompose A to get Q and R so to check if the spans agree we need \n",
    "#to check that rank of Q is equal to rank of A\n",
    "if(rank_original == rank_gs):\n",
    "    print(\"Spans agree\\n\")\n",
    "print(f'gramschmidt(\\n{A})\\n\\nReturns:\\nQ:\\n{my_QA}\\n\\nR:\\n{my_RA}')"
   ]
  },
  {
   "cell_type": "markdown",
   "metadata": {},
   "source": [
    "### c)"
   ]
  },
  {
   "cell_type": "code",
   "execution_count": 243,
   "metadata": {},
   "outputs": [
    {
     "name": "stdout",
     "output_type": "stream",
     "text": [
      "Spans agree\n",
      "\n",
      "gramschmidt(\n",
      "[[ 1  2  3]\n",
      " [ 2  1  3]\n",
      " [-1  3  2]\n",
      " [ 3  6  9]])\n",
      "\n",
      "Returns:\n",
      "Q:\n",
      "[[ 0.25819889  0.14400324]\n",
      " [ 0.51639778 -0.30109768]\n",
      " [-0.25819889  0.83783702]\n",
      " [ 0.77459667  0.43200971]]\n",
      "\n",
      "R:\n",
      "[[3.87298335 4.90577891 8.77876225]\n",
      " [0.         5.09247811 5.09247811]]\n"
     ]
    }
   ],
   "source": [
    "my_QB, my_RB = gramschmidt(B)\n",
    "rank_original = np.linalg.matrix_rank(B)\n",
    "rank_gs  = np.linalg.matrix_rank(Z[0])\n",
    "\n",
    "#because we decompose B to get Q and R so to check if the spans agree we need \n",
    "#to check that rank of Q is equal to rank of B\n",
    "if(rank_original == rank_gs):\n",
    "    print(\"Spans agree\\n\")\n",
    "    \n",
    "print(f'gramschmidt(\\n{B})\\n\\nReturns:\\nQ:\\n{my_QB}\\n\\nR:\\n{my_RB}')"
   ]
  },
  {
   "cell_type": "markdown",
   "metadata": {},
   "source": [
    "### d) Read up on the function qr (in MATLAB or Python) from the documentation. Use this function to calculate the orthonormal bases for the subspaces in parts (b) and (c), and verify that these outputs match the outputs of the function in (a). In case they do not, in what way are they different?"
   ]
  },
  {
   "cell_type": "code",
   "execution_count": 244,
   "metadata": {},
   "outputs": [],
   "source": [
    "Q_A, R_A = np.linalg.qr(A)\n",
    "Q_B, R_B = np.linalg.qr(B)"
   ]
  },
  {
   "cell_type": "code",
   "execution_count": 245,
   "metadata": {},
   "outputs": [
    {
     "name": "stdout",
     "output_type": "stream",
     "text": [
      "Q-R decomposition for matrix A:\n",
      "\n",
      "Q_A=\n",
      "[[-0.25819889  0.46435976  0.02510336]\n",
      " [-0.51639778  0.12501993 -0.82283227]\n",
      " [ 0.25819889  0.87513954  0.06973155]\n",
      " [-0.77459667  0.05357997  0.56343091]]\n",
      "\n",
      "R_A=\n",
      "[[ 3.87298335 -1.03279556 -0.25819889]\n",
      " [ 0.          3.73273805 -2.4825387 ]\n",
      " [ 0.          0.          3.43079217]]\n"
     ]
    }
   ],
   "source": [
    "print(f'Q-R decomposition for matrix A:\\n\\nQ_A=\\n{Q_A}\\n\\nR_A=\\n{R_A}')"
   ]
  },
  {
   "cell_type": "code",
   "execution_count": 246,
   "metadata": {},
   "outputs": [
    {
     "name": "stdout",
     "output_type": "stream",
     "text": [
      "Q-R decomposition for matrix B:\n",
      "\n",
      "Q_B=\n",
      "[[-0.25819889  0.14400324 -0.04108703]\n",
      " [-0.51639778 -0.30109768 -0.79132982]\n",
      " [ 0.25819889  0.83783702 -0.47479789]\n",
      " [-0.77459667  0.43200971  0.38298293]]\n",
      "\n",
      "R_B=\n",
      "[[-3.87298335e+00 -4.90577891e+00 -8.77876225e+00]\n",
      " [ 0.00000000e+00  5.09247811e+00  5.09247811e+00]\n",
      " [ 0.00000000e+00  0.00000000e+00 -5.75118687e-16]]\n"
     ]
    }
   ],
   "source": [
    "print(f'Q-R decomposition for matrix B:\\n\\nQ_B=\\n{Q_B}\\n\\nR_B=\\n{R_B}')"
   ]
  },
  {
   "cell_type": "markdown",
   "metadata": {},
   "source": [
    "We observe that Q_A and my_QA are equal and so are corresponding values of R_A and my_RA, but we observe an interesting discrepancy in B, note here that we can easily see that the third column of B is a linear combination of the first two columns, so when we apply grahamschmidt on matrix B we remove the redundant column, but the built-in methods are programmed to return $Q_(mxk)$  and $R_(kxn)$ hence the values that we observe in the third column of Q_B from what has been returned by the built ins make no sense, we can also observe that the third row of R_B has entried that are zeros as -5.75118687e-16 is of the order of 10 to the power 16 which will be extremely small so we can consider it to be 0. This indicates that the third column of Q_B is actually just a consequence of the construct of the built-in function and that those values do not give us any useful information. "
   ]
  }
 ],
 "metadata": {
  "kernelspec": {
   "display_name": "Python 3",
   "language": "python",
   "name": "python3"
  },
  "language_info": {
   "codemirror_mode": {
    "name": "ipython",
    "version": 3
   },
   "file_extension": ".py",
   "mimetype": "text/x-python",
   "name": "python",
   "nbconvert_exporter": "python",
   "pygments_lexer": "ipython3",
   "version": "3.7.3"
  }
 },
 "nbformat": 4,
 "nbformat_minor": 2
}
