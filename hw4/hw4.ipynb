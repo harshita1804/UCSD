{
 "cells": [
  {
   "cell_type": "code",
   "execution_count": null,
   "metadata": {},
   "outputs": [],
   "source": [
    "import random\n",
    "def get_sample(nbits=3,prob=None,n=1):\n",
    "    \n",
    "    '''Returns a list n of random samples from a finite probability mass function \n",
    "       defined by a dictionary with keys defined by a specified number of bits.\n",
    "\n",
    "    Parameters\n",
    "    ----------\n",
    "    nbits: number of bits.\n",
    "    prob: dict of strings and the probability of drawing the corresponding string.\n",
    "    n: number of random samples to be returned from the given dict.\n",
    "\n",
    "    Returns\n",
    "    -------\n",
    "    List\n",
    "        A lists n random samples from the given dict.\n",
    "\n",
    "    Examples\n",
    "    --------\n",
    "       get_sample(nbits=3,prob=p,n=4)\n",
    "       ['101', '000', '001', '100'] \n",
    " '''\n",
    "    \n",
    "    assert n>=0\n",
    "    assert nbits>=1\n",
    "    assert sum([v for v in prob.values()]) ==1\n",
    "    \n",
    "    return random.choices(list(prob.keys()), k = n)\n",
    "    "
   ]
  },
  {
   "cell_type": "code",
   "execution_count": null,
   "metadata": {},
   "outputs": [],
   "source": [
    "p={'000': 0.125, \n",
    " '001': 0.125, \n",
    " '010': 0.125, \n",
    " '011': 0.125, \n",
    " '100': 0.125, \n",
    " '101': 0.125, \n",
    " '110': 0.125, \n",
    " '111': 0.125} \n"
   ]
  },
  {
   "cell_type": "code",
   "execution_count": null,
   "metadata": {},
   "outputs": [],
   "source": [
    "get_sample(prob=p)"
   ]
  },
  {
   "cell_type": "code",
   "execution_count": null,
   "metadata": {},
   "outputs": [],
   "source": [
    "list(p.keys())[:3]"
   ]
  },
  {
   "cell_type": "code",
   "execution_count": null,
   "metadata": {},
   "outputs": [],
   "source": [
    "p_sorted = sorted(p.items(), key=lambda x:x[1], reverse = True) "
   ]
  },
  {
   "cell_type": "code",
   "execution_count": null,
   "metadata": {},
   "outputs": [],
   "source": [
    "[k for k, v in p_sorted][:3]"
   ]
  },
  {
   "cell_type": "code",
   "execution_count": 1,
   "metadata": {},
   "outputs": [],
   "source": [
    "def map_bitstring(x):\n",
    "    \n",
    "    '''Returns a dictionary of mappings between the list of bitstrings and the numbers 0 or 1.\n",
    "       0 if the number of 0 in x[i]> number of 1 in x[i], else 1. \n",
    "\n",
    "    Parameters\n",
    "    ----------\n",
    "    x: list of bitstrings.\n",
    "    Returns\n",
    "    -------\n",
    "    Dictionary\n",
    "        A dictionary of mappings between the number of bistrings and the number of 0 \n",
    "        present in the bitstring.\n",
    "\n",
    "    Examples\n",
    "    --------\n",
    "       >>> x= ['100', '100', '110', '010', '111', '000', '110', '010', '011', '000']\n",
    "       >>> map_bitstring(x) \n",
    "           {'100': 0, '110': 1, '010': 0, '111': 1, '000': 0, '011': 1} \n",
    "    '''\n",
    "    \n",
    "    \n",
    "    assert isinstance(x, list)\n",
    "    assert all(isinstance(d, str) for d in x)\n",
    "    mapping = []\n",
    "    for bstring in x:\n",
    "        length = len(bstring)\n",
    "        numberOfOnes = bstring.count('1')\n",
    "        if(length - numberOfOnes>numberOfOnes):\n",
    "            mapping.append(0)\n",
    "        else:\n",
    "            mapping.append(1)\n",
    "    return dict(zip(x, mapping))\n",
    "    \n",
    "\n",
    "def gather_values(x):\n",
    "    '''\n",
    "    Returns a dictionary of strings as keys with values in form of a list that is formed using\n",
    "    map_birstrings function\n",
    "\n",
    "    Parameters\n",
    "    ----------\n",
    "    x: list of bitstrings.\n",
    "    Returns\n",
    "    -------\n",
    "    Dictionary\n",
    "        A dictionary of strings as keys with values in form of a list that is formed using\n",
    "        map_birstrings function\n",
    "\n",
    "    Examples\n",
    "    --------\n",
    "       >>> x=get_sample(nbits=2,prob={'00':1/4,'01':1/4,'10':1/4,'11':1/4},n=20)\n",
    "       >>> print(x)\n",
    "         ['10', '11', '01', '00', '10', '00', '00', '11', '10', '00', '00', '01', \n",
    "         '01', '11', '10', '00', '11', '10', '11', '11']\n",
    "         \n",
    "         So when x is as above, our function returns, \n",
    "         \n",
    "         {'10': [1, 1, 1, 1, 1],\n",
    "          '11': [1, 1, 1, 1, 1, 1],        \n",
    "          '01': [1, 1, 1],                 \n",
    "           '00': [0, 0, 0, 0, 0, 0]}    \n",
    "    '''\n",
    "    assert isinstance(x, list)\n",
    "    assert all(isinstance(d, str) for d in x)\n",
    "    \n",
    "    dict_of_mappings = map_bitstring(x)\n",
    "    from collections import defaultdict\n",
    "    d_dict = defaultdict(list)\n",
    "    for i in x:\n",
    "        d_dict[i].append(dict_of_mappings[i])\n",
    "    return d_dict\n",
    "    \n",
    "\n",
    "def threshold_values(seq,threshold=1):\n",
    "    '''\n",
    "    Returns a dictionary of strings as keys with values in form of a list that is formed using\n",
    "    gather_values function\n",
    "\n",
    "    Parameters\n",
    "    ----------\n",
    "    seq: list of bitstrings.\n",
    "    threshold: the threshold for setting zero and one\n",
    "    Returns\n",
    "    -------\n",
    "    Dictionary\n",
    "        A dictionary of strings as keys with values that are either 0 or 1 depending on the threshold\n",
    "\n",
    "    Examples\n",
    "    --------\n",
    "       for the dict generated from gather_values, we get,\n",
    "           {'10': [1, 1, 1, 1, 1],\n",
    "            '11': [1, 1, 1, 1, 1, 1],  \n",
    "            '01': [1, 1, 1],  \n",
    "            '00': [0, 0, 0, 0, 0, 0]} \n",
    "            \n",
    "            threshold_values gives:\n",
    "             {'10': 1,\n",
    "              '11': 1,  \n",
    "              '01': 0,  \n",
    "              '00': 0}  \n",
    "    '''\n",
    "    assert isinstance(seq, list)\n",
    "    assert all(isinstance(d, str) for d in seq)\n",
    "    assert isinstance(threshold, int)\n",
    "    assert threshold>=0\n",
    "    \n",
    "    z = gather_values(seq)\n",
    "    \n",
    "    for k, v in z.items():\n",
    "        z[k] = sum(v)\n",
    "    from collections import Counter\n",
    "\n",
    "    k = Counter(z)\n",
    "    s = [key[0] for key in k.most_common(threshold)]\n",
    "    \n",
    "    for i in z:\n",
    "        if i in s:\n",
    "            z[i] = 1\n",
    "        else:\n",
    "            z[i] = 0\n",
    "    return dict(sorted(z.items()))"
   ]
  },
  {
   "cell_type": "code",
   "execution_count": null,
   "metadata": {},
   "outputs": [],
   "source": []
  },
  {
   "cell_type": "code",
   "execution_count": 2,
   "metadata": {},
   "outputs": [
    {
     "data": {
      "text/plain": [
       "{'000': 0, '010': 0, '011': 0, '100': 0, '110': 1, '111': 0}"
      ]
     },
     "execution_count": 2,
     "metadata": {},
     "output_type": "execute_result"
    }
   ],
   "source": [
    ">>> x= ['100', '100', '110', '010', '111', '000', '110', '010', '011', '000']\n",
    "threshold_values(x)"
   ]
  },
  {
   "cell_type": "code",
   "execution_count": null,
   "metadata": {},
   "outputs": [],
   "source": [
    "def map_bitstring(x):\n",
    "    \n",
    "    '''Returns a dictionary of mappings between the list of bitstrings and the numbers 0 or 1.\n",
    "       0 if the number of 0 in x[i]> number of 1 in x[i], else 1. \n",
    "\n",
    "    Parameters\n",
    "    ----------\n",
    "    x: list of bitstrings.\n",
    "    Returns\n",
    "    -------\n",
    "    Dictionary\n",
    "        A dictionary of mappings between the number of bistrings and the number of 0 \n",
    "        present in the bitstring.\n",
    "\n",
    "    Examples\n",
    "    --------\n",
    "       >>> x= ['100', '100', '110', '010', '111', '000', '110', '010', '011', '000']\n",
    "       >>> map_bitstring(x) \n",
    "           {'100': 0, '110': 1, '010': 0, '111': 1, '000': 0, '011': 1} \n",
    "    '''\n",
    "    \n",
    "    \n",
    "    assert isinstance(x, list)\n",
    "    assert all(isinstance(d, str) for d in x)\n",
    "    mapping = []\n",
    "    for bstring in x:\n",
    "        length = len(bstring)\n",
    "        numberOfOnes = bstring.count('1')\n",
    "        if(length - numberOfOnes>numberOfOnes):\n",
    "            mapping.append(0)\n",
    "        else:\n",
    "            mapping.append(1)\n",
    "    return dict(zip(x, mapping))\n",
    "    \n",
    "\n",
    "def gather_values(x):\n",
    "    '''\n",
    "    Returns a dictionary of strings as keys with values in form of a list that is formed using\n",
    "    map_birstrings function\n",
    "\n",
    "    Parameters\n",
    "    ----------\n",
    "    x: list of bitstrings.\n",
    "    Returns\n",
    "    -------\n",
    "    Dictionary\n",
    "        A dictionary of strings as keys with values in form of a list that is formed using\n",
    "        map_birstrings function\n",
    "\n",
    "    Examples\n",
    "    --------\n",
    "       >>> x=get_sample(nbits=2,prob={'00':1/4,'01':1/4,'10':1/4,'11':1/4},n=20)\n",
    "       >>> print(x)\n",
    "         ['10', '11', '01', '00', '10', '00', '00', '11', '10', '00', '00', '01', \n",
    "         '01', '11', '10', '00', '11', '10', '11', '11']\n",
    "         \n",
    "         So when x is as above, our function returns, \n",
    "         \n",
    "         {'10': [1, 1, 1, 1, 1],\n",
    "          '11': [1, 1, 1, 1, 1, 1],        \n",
    "          '01': [1, 1, 1],                 \n",
    "           '00': [0, 0, 0, 0, 0, 0]}    \n",
    "    '''\n",
    "    assert isinstance(x, list)\n",
    "    assert all(isinstance(d, str) for d in x)\n",
    "    \n",
    "    dict_of_mappings = map_bitstring(x)\n",
    "    from collections import defaultdict\n",
    "    d_dict = defaultdict(list)\n",
    "    for i in x:\n",
    "        d_dict[i].append(dict_of_mappings[i])\n",
    "    return d_dict\n",
    "    "
   ]
  },
  {
   "cell_type": "code",
   "execution_count": null,
   "metadata": {},
   "outputs": [],
   "source": [
    "z = ['1111', '0110', '1001', '0011', '0111', '0100', '0111', '1100', '0011', '0010', '0010', '1010', '1010', '1100', '0110', '0101', '0110', '1111', '1001', '0110', '0010', '1101', '0101', '0010', '0100', '0010', '0000', '0000', '0011', '0110', '0101', '1010', '1011', '1101', '1100', '0111', '1110', '0100', '0110', '1101', '0001', '1110', '0010', '0001', '1010', '1010', '0011', '1000', '0010', '0000', '1010', '1101', '1111', '1000', '1000', '0010', '1010', '0101', '0101', '1101', '0110', '1001', '1100', '1100', '1000', '1010', '0011', '0101', '0101', '0011', '0001', '1010', '0011', '0011', '1101', '1010', '0101', '0011', '1011', '0101', '0000', '1111', '1001', '0101', '1100', '0011', '1111', '1101', '0001', '1111', '1110', '1111', '0001', '0010', '0110', '0100', '0101', '1100', '1110', '1001'] "
   ]
  },
  {
   "cell_type": "code",
   "execution_count": null,
   "metadata": {},
   "outputs": [],
   "source": [
    "#z = sorted(z.items(), key=lambda x:sum(x[1]), reverse = True) "
   ]
  },
  {
   "cell_type": "code",
   "execution_count": 5,
   "metadata": {},
   "outputs": [],
   "source": [
    "from time import sleep\n",
    "import random\n",
    "from datetime import datetime\n",
    "import itertools as it\n",
    " \n",
    "def producer():\n",
    "    'produce timestamps'\n",
    "    starttime = datetime.now()\n",
    "    while True:\n",
    "        sleep(random.uniform(0,0.2))\n",
    "        yield datetime.now()-starttime\n"
   ]
  },
  {
   "cell_type": "code",
   "execution_count": 408,
   "metadata": {},
   "outputs": [],
   "source": [
    "def tracker(p,limit):\n",
    "    '''\n",
    "    Returns the number of odd values\n",
    "    '''\n",
    "    assert isinstance(limit, int)\n",
    "    assert limit>0\n",
    "    i = 0 \n",
    "    while True:\n",
    "        try: \n",
    "            x = next(p).seconds  \n",
    "\n",
    "            if(x%2!=0):\n",
    "                i = i +1\n",
    "            if(i<=limit):\n",
    "                new_limit = yield i\n",
    "#                 print(new_limit)\n",
    "#                 print(f'limit is {limit}')\n",
    "                if new_limit is not None:\n",
    "                    limit = new_limit \n",
    "#                     print(f'limit is {limit}')\n",
    "            else:\n",
    "                break\n",
    "        except StopIteration:\n",
    "            pass"
   ]
  },
  {
   "cell_type": "code",
   "execution_count": 6,
   "metadata": {},
   "outputs": [],
   "source": [
    "def tracker(p,limit):\n",
    "    '''\n",
    "    Returns the number of odd values\n",
    "    '''\n",
    "    assert isinstance(limit, int)\n",
    "    assert limit>0\n",
    "    i = 0 \n",
    "    while True:\n",
    "            x = next(p).seconds  \n",
    "\n",
    "            if(x%2!=0):\n",
    "                i = i +1\n",
    "            if(i<=limit):\n",
    "                new_limit = (yield i)\n",
    "                if new_limit is not None:\n",
    "                    limit = new_limit \n",
    "            else:\n",
    "                break\n"
   ]
  },
  {
   "cell_type": "code",
   "execution_count": 13,
   "metadata": {},
   "outputs": [],
   "source": [
    "p = producer()\n",
    "t = tracker(p,10)\n"
   ]
  },
  {
   "cell_type": "code",
   "execution_count": 18,
   "metadata": {},
   "outputs": [
    {
     "data": {
      "text/plain": [
       "[1, 1, 1, 1, 1, 1, 1, 1, 1, 1, 1, 1, 1, 2, 3, 4, 5]"
      ]
     },
     "execution_count": 18,
     "metadata": {},
     "output_type": "execute_result"
    }
   ],
   "source": [
    " list(t)\n",
    "#t.send(5)"
   ]
  },
  {
   "cell_type": "code",
   "execution_count": 16,
   "metadata": {},
   "outputs": [
    {
     "data": {
      "text/plain": [
       "1"
      ]
     },
     "execution_count": 16,
     "metadata": {},
     "output_type": "execute_result"
    }
   ],
   "source": [
    "next(t)"
   ]
  },
  {
   "cell_type": "code",
   "execution_count": 17,
   "metadata": {},
   "outputs": [
    {
     "data": {
      "text/plain": [
       "1"
      ]
     },
     "execution_count": 17,
     "metadata": {},
     "output_type": "execute_result"
    }
   ],
   "source": [
    "t.send(5)"
   ]
  },
  {
   "cell_type": "code",
   "execution_count": 386,
   "metadata": {},
   "outputs": [
    {
     "ename": "StopIteration",
     "evalue": "",
     "output_type": "error",
     "traceback": [
      "\u001b[0;31m---------------------------------------------------------------------------\u001b[0m",
      "\u001b[0;31mStopIteration\u001b[0m                             Traceback (most recent call last)",
      "\u001b[0;32m<ipython-input-386-f843efe259be>\u001b[0m in \u001b[0;36m<module>\u001b[0;34m\u001b[0m\n\u001b[0;32m----> 1\u001b[0;31m \u001b[0mnext\u001b[0m\u001b[0;34m(\u001b[0m\u001b[0mt\u001b[0m\u001b[0;34m)\u001b[0m\u001b[0;34m\u001b[0m\u001b[0;34m\u001b[0m\u001b[0m\n\u001b[0m",
      "\u001b[0;31mStopIteration\u001b[0m: "
     ]
    }
   ],
   "source": [
    "next(t)"
   ]
  },
  {
   "cell_type": "code",
   "execution_count": null,
   "metadata": {},
   "outputs": [],
   "source": [
    "def wrapper(coroutine):\n",
    "   coroutine.send(None) # kickstart\n",
    "   while True:\n",
    "      try:\n",
    "         x = (yield)       # capture what is sent...\n",
    "         coroutine.send(x) # ... and pass it thru\n",
    "      except StopIteration:\n",
    "         pass"
   ]
  },
  {
   "cell_type": "code",
   "execution_count": null,
   "metadata": {},
   "outputs": [],
   "source": []
  },
  {
   "cell_type": "code",
   "execution_count": null,
   "metadata": {},
   "outputs": [],
   "source": []
  }
 ],
 "metadata": {
  "kernelspec": {
   "display_name": "Python 3",
   "language": "python",
   "name": "python3"
  },
  "language_info": {
   "codemirror_mode": {
    "name": "ipython",
    "version": 3
   },
   "file_extension": ".py",
   "mimetype": "text/x-python",
   "name": "python",
   "nbconvert_exporter": "python",
   "pygments_lexer": "ipython3",
   "version": "3.7.3"
  }
 },
 "nbformat": 4,
 "nbformat_minor": 2
}
